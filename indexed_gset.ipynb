{
 "cells": [
  {
   "cell_type": "code",
   "execution_count": 1,
   "metadata": {},
   "outputs": [],
   "source": [
    "import json\n",
    "import pandas as pd"
   ]
  },
  {
   "cell_type": "markdown",
   "metadata": {},
   "source": [
    "# Variables"
   ]
  },
  {
   "cell_type": "code",
   "execution_count": 2,
   "metadata": {},
   "outputs": [],
   "source": [
    "fasta_file_path = './data/genome/gencode.v38.transcripts.fa'\n",
    "json_geneset_fname = './data/c2.cp.kegg_medicus.v2023.2.Hs.json'\n",
    "\n",
    "target_gene_sets = [\"M47362\", \"M47365\", \"M47412\", \"M47419\", \"M47422\", \"M47425\", \"M47450\", \"M47452\", \"M47478\", \"M47501\"]\n",
    "\n",
    "\n",
    "out_indexed_gset = './output/gene_sets_with_indices.tsv'\n"
   ]
  },
  {
   "cell_type": "markdown",
   "metadata": {},
   "source": [
    "# Extract Target genes with matching index from Fasta file"
   ]
  },
  {
   "cell_type": "code",
   "execution_count": 3,
   "metadata": {},
   "outputs": [
    {
     "name": "stdout",
     "output_type": "stream",
     "text": [
      "All genes were found in the reference Fasta file.\n"
     ]
    },
    {
     "data": {
      "text/html": [
       "<div>\n",
       "<style scoped>\n",
       "    .dataframe tbody tr th:only-of-type {\n",
       "        vertical-align: middle;\n",
       "    }\n",
       "\n",
       "    .dataframe tbody tr th {\n",
       "        vertical-align: top;\n",
       "    }\n",
       "\n",
       "    .dataframe thead th {\n",
       "        text-align: right;\n",
       "    }\n",
       "</style>\n",
       "<table border=\"1\" class=\"dataframe\">\n",
       "  <thead>\n",
       "    <tr style=\"text-align: right;\">\n",
       "      <th></th>\n",
       "      <th>gene_set</th>\n",
       "      <th>target_gene</th>\n",
       "      <th>index</th>\n",
       "    </tr>\n",
       "  </thead>\n",
       "  <tbody>\n",
       "    <tr>\n",
       "      <th>0</th>\n",
       "      <td>M47362</td>\n",
       "      <td>ARAF</td>\n",
       "      <td>230520</td>\n",
       "    </tr>\n",
       "    <tr>\n",
       "      <th>1</th>\n",
       "      <td>M47362</td>\n",
       "      <td>BRAF</td>\n",
       "      <td>94630</td>\n",
       "    </tr>\n",
       "    <tr>\n",
       "      <th>2</th>\n",
       "      <td>M47362</td>\n",
       "      <td>CCND1</td>\n",
       "      <td>130954</td>\n",
       "    </tr>\n",
       "    <tr>\n",
       "      <th>3</th>\n",
       "      <td>M47362</td>\n",
       "      <td>EGF</td>\n",
       "      <td>58870</td>\n",
       "    </tr>\n",
       "    <tr>\n",
       "      <th>4</th>\n",
       "      <td>M47362</td>\n",
       "      <td>EGFR</td>\n",
       "      <td>88559</td>\n",
       "    </tr>\n",
       "    <tr>\n",
       "      <th>...</th>\n",
       "      <td>...</td>\n",
       "      <td>...</td>\n",
       "      <td>...</td>\n",
       "    </tr>\n",
       "    <tr>\n",
       "      <th>110</th>\n",
       "      <td>M47501</td>\n",
       "      <td>PIK3CA</td>\n",
       "      <td>50464</td>\n",
       "    </tr>\n",
       "    <tr>\n",
       "      <th>111</th>\n",
       "      <td>M47501</td>\n",
       "      <td>PIK3CB</td>\n",
       "      <td>48219</td>\n",
       "    </tr>\n",
       "    <tr>\n",
       "      <th>112</th>\n",
       "      <td>M47501</td>\n",
       "      <td>PIK3CD</td>\n",
       "      <td>1490</td>\n",
       "    </tr>\n",
       "    <tr>\n",
       "      <th>113</th>\n",
       "      <td>M47501</td>\n",
       "      <td>RPS6KB1</td>\n",
       "      <td>192243</td>\n",
       "    </tr>\n",
       "    <tr>\n",
       "      <th>114</th>\n",
       "      <td>M47501</td>\n",
       "      <td>RPS6KB2</td>\n",
       "      <td>130522</td>\n",
       "    </tr>\n",
       "  </tbody>\n",
       "</table>\n",
       "<p>115 rows × 3 columns</p>\n",
       "</div>"
      ],
      "text/plain": [
       "    gene_set target_gene   index\n",
       "0     M47362        ARAF  230520\n",
       "1     M47362        BRAF   94630\n",
       "2     M47362       CCND1  130954\n",
       "3     M47362         EGF   58870\n",
       "4     M47362        EGFR   88559\n",
       "..       ...         ...     ...\n",
       "110   M47501      PIK3CA   50464\n",
       "111   M47501      PIK3CB   48219\n",
       "112   M47501      PIK3CD    1490\n",
       "113   M47501     RPS6KB1  192243\n",
       "114   M47501     RPS6KB2  130522\n",
       "\n",
       "[115 rows x 3 columns]"
      ]
     },
     "execution_count": 3,
     "metadata": {},
     "output_type": "execute_result"
    }
   ],
   "source": [
    "with open(json_geneset_fname, 'r') as json_file:\n",
    "    gene_sets = json.load(json_file)\n",
    "\n",
    "# Extract the gene names from the JSON file - gene sets\n",
    "gene_set_data = []\n",
    "for gene_set_name, gene_set_info in gene_sets.items():\n",
    "    if gene_set_info[\"systematicName\"] in target_gene_sets:\n",
    "        for gene in gene_set_info[\"geneSymbols\"]:\n",
    "            gene_set_data.append((gene_set_info[\"systematicName\"], gene))\n",
    "\n",
    "# Map gene names to their first occurrence index\n",
    "gene_index_map = {}\n",
    "with open(fasta_file_path, 'r') as fasta:\n",
    "    index = 1\n",
    "    for line in fasta:\n",
    "        if line.startswith('>'):\n",
    "            gene_name = line.strip().split('|')[5]\n",
    "            if gene_name not in gene_index_map:\n",
    "                gene_index_map[gene_name] = index\n",
    "            index += 1\n",
    "\n",
    "# Compare the gene names from the JSON file to the FASTA file\n",
    "genes_not_found = []\n",
    "output_data = []\n",
    "for gene_set_name, gene in gene_set_data:\n",
    "    if gene in gene_index_map:\n",
    "        output_data.append((gene_set_name, gene, gene_index_map[gene]))\n",
    "    else:\n",
    "        genes_not_found.append(gene)\n",
    "\n",
    "# Names of genes not found in the FASTA file\n",
    "if len(genes_not_found) > 0:\n",
    "    _go = \", \".join(genes_not_found)\n",
    "    print(f\"Genes not found in FASTA file:{_go}\")\n",
    "else:\n",
    "    print('All genes were found in the reference Fasta file.')\n",
    "\n",
    "# Write output table: gene set - target gene - index in Fasta\n",
    "output_df = pd.DataFrame(output_data, columns=['gene_set', 'target_gene', 'index'])\n",
    "output_df"
   ]
  },
  {
   "cell_type": "code",
   "execution_count": 4,
   "metadata": {},
   "outputs": [
    {
     "data": {
      "text/plain": [
       "min      1490\n",
       "max    235809\n",
       "Name: index, dtype: int64"
      ]
     },
     "execution_count": 4,
     "metadata": {},
     "output_type": "execute_result"
    }
   ],
   "source": [
    "# Verify index\n",
    "output_df['index'].agg(['min','max'])"
   ]
  },
  {
   "cell_type": "markdown",
   "metadata": {},
   "source": [
    "### Filter out shared genes\n",
    "\n",
    "TODO: find other way to handle shared genes between gene sets"
   ]
  },
  {
   "cell_type": "code",
   "execution_count": 5,
   "metadata": {},
   "outputs": [],
   "source": [
    "# keep first occurance\n",
    "df_filtered = output_df.drop_duplicates(subset='target_gene', keep='first')"
   ]
  },
  {
   "cell_type": "markdown",
   "metadata": {},
   "source": [
    "### Save resulted table"
   ]
  },
  {
   "cell_type": "code",
   "execution_count": 6,
   "metadata": {},
   "outputs": [],
   "source": [
    "\n",
    "df_filtered.to_csv(out_indexed_gset, sep='\\t', index=False)"
   ]
  }
 ],
 "metadata": {
  "kernelspec": {
   "display_name": "Python 3",
   "language": "python",
   "name": "python3"
  },
  "language_info": {
   "codemirror_mode": {
    "name": "ipython",
    "version": 3
   },
   "file_extension": ".py",
   "mimetype": "text/x-python",
   "name": "python",
   "nbconvert_exporter": "python",
   "pygments_lexer": "ipython3",
   "version": "3.9.undefined"
  }
 },
 "nbformat": 4,
 "nbformat_minor": 2
}
